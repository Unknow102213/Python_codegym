{
 "cells": [
  {
   "cell_type": "code",
   "execution_count": 26,
   "id": "7d258d2c",
   "metadata": {},
   "outputs": [],
   "source": [
    "class Student:\n",
    "    \n",
    "    #hàm khỏi tạo của lớp\n",
    "    def __init__(self,name,gender,age,hometown):\n",
    "        '''hàm khỏi tạo của lớp dùng để khỏi tạo các giá trị của các thuộc tính'''\n",
    "        self.name=name\n",
    "        self.gender=gender\n",
    "        self.age=age\n",
    "        self.hometown=hometown\n",
    "    #phương thức của lớp\n",
    "    def showInfo(self):\n",
    "        print('họ và tên: ',self.name)\n",
    "        print('giới tính: ','nam' if not self.gender else'nữ')\n",
    "        print('tuổi: ',self.age)\n",
    "        print('quê quán: ',self.hometown)\n",
    "        #kết thúc liệt kê thực tính\n",
    "        \n",
    "        #phương thức của lớp \n",
    "    def study(self):\n",
    "        print('học bài làm bài tập về nhà...')\n",
    "    def play(self):\n",
    "        print('chơi và giải trí...')"
   ]
  },
  {
   "cell_type": "code",
   "execution_count": 27,
   "id": "ee8d2674",
   "metadata": {},
   "outputs": [
    {
     "name": "stdout",
     "output_type": "stream",
     "text": [
      "họ và tên:  Nguyễn Ngọc Thiện\n",
      "giới tính:  nam\n",
      "tuổi:  16\n",
      "quê quán:  Lâm Đồng\n"
     ]
    }
   ],
   "source": [
    "student1=Student('Nguyễn Ngọc Thiện',0,16,'Lâm Đồng')\n",
    "student1.showInfo()"
   ]
  },
  {
   "cell_type": "code",
   "execution_count": 19,
   "id": "c0afa34a",
   "metadata": {
    "scrolled": true
   },
   "outputs": [
    {
     "name": "stdout",
     "output_type": "stream",
     "text": [
      "học bài làm bài tập về nhà...\n"
     ]
    }
   ],
   "source": [
    "\n",
    "student1=Student()\n",
    "student1.study()"
   ]
  },
  {
   "cell_type": "code",
   "execution_count": 20,
   "id": "a47308b7",
   "metadata": {},
   "outputs": [
    {
     "name": "stdout",
     "output_type": "stream",
     "text": [
      "chơi và giải trí...\n"
     ]
    }
   ],
   "source": [
    "student1=Student()\n",
    "student1.play()"
   ]
  },
  {
   "cell_type": "code",
   "execution_count": 23,
   "id": "af15885c",
   "metadata": {
    "scrolled": true
   },
   "outputs": [
    {
     "name": "stdout",
     "output_type": "stream",
     "text": [
      "họ và tên:  Nguyễn Văn Bình\n",
      "giới tính:  nam\n",
      "tuổi:  25\n",
      "quê quán:  Nghệ An\n"
     ]
    }
   ],
   "source": [
    "student2=Student()\n",
    "student2.name='Nguyễn Văn Bình'\n",
    "student2.gender=False\n",
    "student2.age=25\n",
    "student2.hometown='Nghệ An'\n",
    "student2.showInfo()"
   ]
  },
  {
   "cell_type": "markdown",
   "id": "0f1a6285",
   "metadata": {},
   "source": [
    "**Định nghĩa lớp tam giác gồm độ dài 3 cạnh a,b,c. Phương thức kiểm tra a,b,c có phải 3 cạnh của 1 tam giác hay không.Chu vi, Diện Tích."
   ]
  },
  {
   "cell_type": "code",
   "execution_count": 36,
   "id": "443b8208",
   "metadata": {},
   "outputs": [
    {
     "ename": "SyntaxError",
     "evalue": "f-string: closing parenthesis '}' does not match opening parenthesis '(' (2294929236.py, line 15)",
     "output_type": "error",
     "traceback": [
      "\u001b[1;36m  Cell \u001b[1;32mIn[36], line 15\u001b[1;36m\u001b[0m\n\u001b[1;33m    print(f\"tam giác có diện tích là {math.sqrt(((((self.a+self.b+self.c)/2)*((self.a+self.b+self.c)/2)-self.a)*(((((self.a+self.b+self.c)/2)*((self.a+self.b+self.c)/2)-self.b)*((((self.a+self.b+self.c)/2)-self.c))}\")\u001b[0m\n\u001b[1;37m                                                                                                                                                                                                                        ^\u001b[0m\n\u001b[1;31mSyntaxError\u001b[0m\u001b[1;31m:\u001b[0m f-string: closing parenthesis '}' does not match opening parenthesis '('\n"
     ]
    }
   ],
   "source": [
    "class triangle:\n",
    "    \n",
    "    def __init__(self,a,b,c):\n",
    "        self.a=a\n",
    "        self.b=b\n",
    "        self.c=c\n",
    "        \n",
    "    def test(self):\n",
    "        test=True\n",
    "        if canh1+canh2<=canh3 or canh1+canh3<=canh2 or canh2+canh3<=canh1:\n",
    "            test=False\n",
    "        if test== True:\n",
    "            print(f\"{self.a},{self.b},{self.c} là 3 cạnh của 1 tam giác\")\n",
    "            print(f\"tam giác có chu vi là: {self.a+self.b+self.c}\")\n",
    "            print(f\"tam giác có diện tích là {math.sqrt(((((self.a+self.b+self.c)/2)*((self.a+self.b+self.c)/2)-self.a)*(((((self.a+self.b+self.c)/2)*((self.a+self.b+self.c)/2)-self.b)*((((self.a+self.b+self.c)/2)-self.c))}\")\n",
    "        else:\n",
    "            print(f\"{self.a},{self.b},{self.c} không phải 3 cạnh của 1 tam giác\")\n",
    "\n",
    "triangle1=triangle(3,4,5)\n",
    "triangle.test()"
   ]
  },
  {
   "cell_type": "code",
   "execution_count": null,
   "id": "0f3bee7d",
   "metadata": {},
   "outputs": [],
   "source": [
    "import ramdom\n",
    "mylist=[]\n",
    "count=0\n",
    "while count<=100:\n",
    "for i in range(100):\n",
    "    a=ramdom.randict(1,100)\n",
    "    b=ramdom.randict(1,100)\n",
    "    c=ramdom.randict(1,100)\n",
    "    tg=Triangle(a,b,c)\n",
    "    if tg.validate():\n",
    "        mylisst.append(tg)\n",
    "\n",
    "count=0\n",
    "for i in mylist:\n",
    "    if i.validate():\n",
    "        print(\"là tam giác\")\n",
    "        count+=1\n",
    "    else:\n",
    "        print(\"không là tam giác\")\n",
    "print(count,\"tam giác là tam giác thực sự\")"
   ]
  },
  {
   "cell_type": "code",
   "execution_count": null,
   "id": "4df26e85",
   "metadata": {},
   "outputs": [],
   "source": []
  },
  {
   "cell_type": "code",
   "execution_count": null,
   "id": "0a31673c",
   "metadata": {},
   "outputs": [],
   "source": []
  },
  {
   "cell_type": "code",
   "execution_count": null,
   "id": "b58e3179",
   "metadata": {},
   "outputs": [],
   "source": []
  }
 ],
 "metadata": {
  "kernelspec": {
   "display_name": "Python 3 (ipykernel)",
   "language": "python",
   "name": "python3"
  },
  "language_info": {
   "codemirror_mode": {
    "name": "ipython",
    "version": 3
   },
   "file_extension": ".py",
   "mimetype": "text/x-python",
   "name": "python",
   "nbconvert_exporter": "python",
   "pygments_lexer": "ipython3",
   "version": "3.11.3"
  }
 },
 "nbformat": 4,
 "nbformat_minor": 5
}
