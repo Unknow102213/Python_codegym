{
 "cells": [
  {
   "cell_type": "markdown",
   "id": "4c559a90",
   "metadata": {},
   "source": [
    "## pack\n",
    "\n",
    "Lệnh `pack()` sẽ giúp sắp xếp các đối tượng theo thứ tự nhất định"
   ]
  },
  {
   "cell_type": "code",
   "execution_count": null,
   "id": "d6af98e3",
   "metadata": {},
   "outputs": [],
   "source": [
    "from tkinter import *\n",
    "\n",
    "msi=Tk()\n",
    "msi.title(\"Login\")\n",
    "\n",
    "lbl_login=Label(msi,text=\"Login\")\n",
    "lbl_username=Label(msi,text=\"username\")\n",
    "lbl_password=Label(msi,text=\"Password\")\n",
    "\n",
    "username=Entry(msi)\n",
    "password=Entry(msi)\n",
    "\n",
    "btn_Login=Button(msi,text=\"Login\")\n",
    "\n",
    "lbl_login.pack()\n",
    "lbl_username.pack()\n",
    "username.pack()\n",
    "lbl_password.pack()\n",
    "password.pack()\n",
    "btn_Login.pack()\n",
    "\n",
    "msi.mainloop()"
   ]
  },
  {
   "cell_type": "markdown",
   "id": "0093b00d",
   "metadata": {},
   "source": [
    "## grid\n",
    "Lệnh `grid()` sẽ giúp sắp xếp các đối tượng theo một bảng"
   ]
  },
  {
   "cell_type": "code",
   "execution_count": 7,
   "id": "d89cd306",
   "metadata": {},
   "outputs": [],
   "source": [
    "from tkinter import *\n",
    "\n",
    "msi=Tk()\n",
    "msi.title(\"LOGIN\")\n",
    "\n",
    "lbl_login=Label(msi,text=\"Login\")\n",
    "lbl_username=Label(msi,text=\"username\")\n",
    "lbl_password=Label(msi,text=\"Password\")\n",
    "\n",
    "username=Entry(msi)\n",
    "password=Entry(msi)\n",
    "\n",
    "btn_Login=Button(msi,text=\"Login\")\n",
    "\n",
    "lbl_login.grid(row=0,column=0,columnspan=2)\n",
    "lbl_username.grid(row=1,column=0)\n",
    "username.grid(row=1,column=1)\n",
    "lbl_password.grid(row=2,column=0)\n",
    "password.grid(row=2,column=1)\n",
    "btn_Login.grid(row=3,column=0,columnspan=2)\n",
    "\n",
    "msi.mainloop()"
   ]
  },
  {
   "cell_type": "markdown",
   "id": "f0a05577",
   "metadata": {},
   "source": [
    "## place\n",
    "\n",
    "Lệnh `place()` sắp xếp các widget bằng cách đặt chúng vào một vị trí cụ thể trong widget chính."
   ]
  },
  {
   "cell_type": "code",
   "execution_count": 2,
   "id": "070e6374",
   "metadata": {},
   "outputs": [],
   "source": [
    "from tkinter import *\n",
    "\n",
    "msi=Tk()\n",
    "msi.title(\"Login\")\n",
    "msi.geometry(\"500x300\")\n",
    "\n",
    "lbl_login=Label(msi,text=\"Login\")\n",
    "lbl_username=Label(msi,text=\"username\")\n",
    "lbl_password=Label(msi,text=\"Password\")\n",
    "\n",
    "username=Entry(msi)\n",
    "password=Entry(msi)\n",
    "\n",
    "btn_Login=Button(msi,text=\"Login\")\n",
    "\n",
    "lbl_login.place(x=250,y=10)\n",
    "lbl_username.place(x=100,y=50)\n",
    "username.place(x=200,y=50)\n",
    "lbl_password.place(x=100,y=100)\n",
    "password.place(x=200,y=100)\n",
    "btn_Login.place(x=250,y=150)\n",
    "\n",
    "msi.mainloop()"
   ]
  }
 ],
 "metadata": {
  "kernelspec": {
   "display_name": "Python 3 (ipykernel)",
   "language": "python",
   "name": "python3"
  },
  "language_info": {
   "codemirror_mode": {
    "name": "ipython",
    "version": 3
   },
   "file_extension": ".py",
   "mimetype": "text/x-python",
   "name": "python",
   "nbconvert_exporter": "python",
   "pygments_lexer": "ipython3",
   "version": "3.11.3"
  }
 },
 "nbformat": 4,
 "nbformat_minor": 5
}
