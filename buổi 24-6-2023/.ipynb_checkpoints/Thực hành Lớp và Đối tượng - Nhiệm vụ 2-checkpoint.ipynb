{
 "cells": [
  {
   "cell_type": "code",
   "execution_count": null,
   "id": "1b7705b3",
   "metadata": {},
   "outputs": [],
   "source": [
    "\"\"\"\n",
    "Viết class NhanVien gồm các thuộc tính:\n",
    "+ Tên\n",
    "+ Tuổi\n",
    "+ Địa chỉ\n",
    "+ Tiền lương\n",
    "+ Tổng số giờ làm\n",
    "\n",
    "Và các phương thức:\n",
    "- Phương thức tạo\n",
    "- tinh_thuong(): Tính toán và trả về số tiền thưởng của nhân viên theo công thức sau:\n",
    "Nếu tổng số giờ làm của nhân viên >=200 thì thưởng = lương * 20%\n",
    "Nếu tổng số giờ làm của nhân viên <200 và >=100 thì thưởng = lương * 10%\n",
    "Nếu tổng số giờ làm của nhân viên <100 thì thưởng = 0\n",
    "- print_info() : In ra tất cả các thông tin cá nhân và tiền thưởng của nhân viên\n",
    "\n",
    "Tiến hành tạo ra hai đối tượng NhanVien và in ra thông tin tương ứng\n",
    "\"\"\""
   ]
  },
  {
   "cell_type": "code",
   "execution_count": 18,
   "id": "3cf0f41d",
   "metadata": {},
   "outputs": [],
   "source": [
    "class Nhan_Vien():\n",
    "    def __init__(self,name,age,address,salary,working_time):\n",
    "        self.name=name\n",
    "        self.age=age\n",
    "        self.address=address\n",
    "        self.salary=salary\n",
    "        self.working_time=working_time\n",
    "        \n",
    "    def tinh_thuong(self):\n",
    "        if self.working_time>=200:\n",
    "            thuong=self.salary*20/100\n",
    "        elif self.working_time>=100:\n",
    "            thuong=self.salary*10/100\n",
    "        else:\n",
    "            thuong=0\n",
    "        return thuong\n",
    "    \n",
    "    def print_info(self):\n",
    "        print(f\"tên: {self.name}\")\n",
    "        print(f\"tuổi: {self.age}\")\n",
    "        print(f\"địa chỉ: {self.address}\")\n",
    "        print(f\"tiền lương: {self.salary}đ\")\n",
    "        print(f\"tổng giờ làm việc: {self.working_time}\")\n",
    "        print(f\"tiền thưởng: {self.thuong}\")"
   ]
  },
  {
   "cell_type": "code",
   "execution_count": 19,
   "id": "14f64010",
   "metadata": {},
   "outputs": [
    {
     "ename": "TypeError",
     "evalue": "Nhan_Vien.tinh_thuong() missing 1 required positional argument: 'thuong'",
     "output_type": "error",
     "traceback": [
      "\u001b[1;31m---------------------------------------------------------------------------\u001b[0m",
      "\u001b[1;31mTypeError\u001b[0m                                 Traceback (most recent call last)",
      "Cell \u001b[1;32mIn[19], line 2\u001b[0m\n\u001b[0;32m      1\u001b[0m sinh_vien1\u001b[38;5;241m=\u001b[39mNhan_Vien(\u001b[38;5;124m'\u001b[39m\u001b[38;5;124mTrần Thạch Mỹ\u001b[39m\u001b[38;5;124m'\u001b[39m,\u001b[38;5;241m20\u001b[39m,\u001b[38;5;124m'\u001b[39m\u001b[38;5;124mBảo Lộc\u001b[39m\u001b[38;5;124m'\u001b[39m,\u001b[38;5;241m2000000\u001b[39m,\u001b[38;5;241m100\u001b[39m)\n\u001b[1;32m----> 2\u001b[0m \u001b[43msinh_vien1\u001b[49m\u001b[38;5;241;43m.\u001b[39;49m\u001b[43mtinh_thuong\u001b[49m\u001b[43m(\u001b[49m\u001b[43m)\u001b[49m\n\u001b[0;32m      3\u001b[0m sinh_vien1\u001b[38;5;241m.\u001b[39mprint_info()\n",
      "\u001b[1;31mTypeError\u001b[0m: Nhan_Vien.tinh_thuong() missing 1 required positional argument: 'thuong'"
     ]
    }
   ],
   "source": [
    "sinh_vien1=Nhan_Vien('Trần Thạch Mỹ',20,'Bảo Lộc',2000000,100)\n",
    "sinh_vien1.tinh_thuong()\n",
    "sinh_vien1.print_info()"
   ]
  }
 ],
 "metadata": {
  "kernelspec": {
   "display_name": "Python 3 (ipykernel)",
   "language": "python",
   "name": "python3"
  },
  "language_info": {
   "codemirror_mode": {
    "name": "ipython",
    "version": 3
   },
   "file_extension": ".py",
   "mimetype": "text/x-python",
   "name": "python",
   "nbconvert_exporter": "python",
   "pygments_lexer": "ipython3",
   "version": "3.11.3"
  }
 },
 "nbformat": 4,
 "nbformat_minor": 5
}
