{
 "cells": [
  {
   "cell_type": "code",
   "execution_count": null,
   "id": "a42fa0c7",
   "metadata": {},
   "outputs": [],
   "source": [
    "\"\"\"\n",
    "Tạo class có tên SoHoc gồm có các thuộc tính và phương thức sau:\n",
    "+ Thuộc tính: number1, number2\n",
    "+ Phương thức:\n",
    "- Phương thức tạo __init()__\n",
    "- Các phương thức get, set cho tất cả các thuộc tính\n",
    "- input_info(): dùng để nhập 2 số number1, number2\n",
    "- print_info(): dùng để hiển thị number1, number2\n",
    "- addition(): dùng để cộng number1, number2\n",
    "- subtract(): trừ number1, number2\n",
    "- multi(): dùng để nhân number1, number2\n",
    "- division(): dùng để chia number1, number2.\n",
    "\n",
    "Sau khi tạo class, khởi tạo một object SoHoc và in ra kết quả tính toán từ các hàm thực hiện phép tính\n",
    "\"\"\""
   ]
  },
  {
   "cell_type": "code",
   "execution_count": 7,
   "id": "04ef75ab",
   "metadata": {},
   "outputs": [
    {
     "name": "stdout",
     "output_type": "stream",
     "text": [
      "number 1: 25\n",
      "number 2: 11\n",
      "*************************\n",
      "25 + 11 = 36\n",
      "25 - 11 = 14\n",
      "25 * 11 = 275\n",
      "25 * 11 = 2.272727272727273\n"
     ]
    }
   ],
   "source": [
    "class SoHoc():\n",
    "    def __init__(self,number1,number2):\n",
    "        self.number1=number1\n",
    "        self.number2=number2\n",
    "        \n",
    "    def print_info(self):\n",
    "        print(f\"number 1: {self.number1}\")\n",
    "        print(f\"number 2: {self.number2}\")\n",
    "        print(\"*************************\")\n",
    "        \n",
    "    def addtion(self):\n",
    "        return self.number1+self.number2\n",
    "    \n",
    "    def subtract(self):\n",
    "        return self.number1-self.number2\n",
    "    \n",
    "    def multi(self):\n",
    "        return self.number1*self.number2\n",
    "    \n",
    "    def division(self):\n",
    "        return self.number1/self.number2\n",
    "    \n",
    "sohoc=SoHoc(25,11)\n",
    "sohoc.print_info()\n",
    "print(f\"{sohoc.number1} + {sohoc.number2} = {sohoc.addtion()}\")\n",
    "print(f\"{sohoc.number1} - {sohoc.number2} = {sohoc.subtract()}\")\n",
    "print(f\"{sohoc.number1} * {sohoc.number2} = {sohoc.multi()}\")\n",
    "print(f\"{sohoc.number1} * {sohoc.number2} = {sohoc.division()}\")"
   ]
  }
 ],
 "metadata": {
  "kernelspec": {
   "display_name": "Python 3 (ipykernel)",
   "language": "python",
   "name": "python3"
  },
  "language_info": {
   "codemirror_mode": {
    "name": "ipython",
    "version": 3
   },
   "file_extension": ".py",
   "mimetype": "text/x-python",
   "name": "python",
   "nbconvert_exporter": "python",
   "pygments_lexer": "ipython3",
   "version": "3.11.3"
  }
 },
 "nbformat": 4,
 "nbformat_minor": 5
}
